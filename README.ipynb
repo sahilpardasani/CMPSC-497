{
  "cells": [
    {
      "cell_type": "markdown",
      "metadata": {
        "id": "yv2rBNtijydL"
      },
      "source": [
        "# Python practice using stacks\n",
        "\n",
        "For this class assignment, we'll work on building a stack class in Python.\n",
        "\n",
        "### Rubric\n",
        "- You will get one point for correct implementation of each method below. (This includes `peek`, which is implemented for you!)\n",
        " - Tests will happen within an autograder on gradescope\n",
        "\n",
        "**You must create a file called `stack.py` in this directory and place the code your write into that file!**\n",
        "When submitting to gradescope, you should connect and submit your (github) classroom repo.\n",
        "\n",
        "### A note on collaboration/group help & generative AI use\n",
        "I do not mind folks working together to understand the answers if your having a bit of trouble. Realize that this is meant to be a practice a assignment for you to use to practice a bit with the `Stack ADT` and `Linked Lists` and python (in case its been a minute for you). If you straight-up copy stuff, you're really only hurting yourself, but _you do you_ ¯\\\\_(ツ)_/¯.\n",
        "\n",
        "A reminder that I **do** mind you using generative AI systems here, especially online closed systems that ultimately just take the input as data to be trained on later. The point here is practice and learning. A little stress in thinking doesn't hurt (it _can_ be helpful!) and **I don't consent or agree to allowing the content for this course to be input into a generative AI system**. In the end, you are getting in the way of your own learning **and** giving unauthorized access of content in this course to companies that, ultimately, would be perfectly fine if all human activity is automated (no matter the quality), as long as the bottom-line is good. Think critically and understand that your practices now may affect your labor in the future. We can't control how other entities use generative AI systems, but we can encourage critical engagement with such systems in this class! **Don't worry, we'll discuss and understand these systems later in the course so that you can critically engage with them and have a nuanced understanding if/when you want to use such systems**\n",
        "\n",
        "<div align=\"center\">\n",
        "\n",
        "<img src=\"imgs/Stack1ImgHelp.gif\" class=\"stackImgs\" />\n",
        "\n",
        "</div>\n",
        "\n",
        "### Let's kill the lights and jump into some Stack code\n",
        "\n",
        "<div align=\"center\">\n",
        "\n",
        "<img src=\"imgs/Stack1Img1.gif\" class=\"stackImgs\" />\n",
        "\n",
        "</div>\n",
        "\n",
        "## Developing the Stack class\n",
        "\n",
        "For this exercise, we'll use `Linked Nodes` (a linked list) to as our underlying data structure for the stack class.\n",
        "\n",
        "### Stack Node Helper class\n",
        "\n",
        "We'll create a `_StackNode` helper class. Notice that we use the underscore (\"\\_\") to denote that it is a _hidden_ classn (meaning that only our Stack actually should/will use it)"
      ]
    },
    {
      "cell_type": "code",
      "execution_count": 1,
      "metadata": {
        "id": "tuG4YgO3ppc-"
      },
      "outputs": [],
      "source": [
        "class _StackNode :\n",
        "\tdef __init__( self, item, link ) :\n",
        "\t\tself.item = item\n",
        "\t\tself.next = link"
      ]
    },
    {
      "cell_type": "markdown",
      "metadata": {
        "id": "muEApfTSs3Ta"
      },
      "source": [
        "### Stack class\n",
        "\n",
        "For our `Stack` class, we want to create several methods:\n",
        "- `push` an item on to the _top_ of the stack\n",
        "- `pop` an item from the top of the stack\n",
        "- `peek` to see what is on the top of the stack\n",
        "- `is_empty` to check whether the stake is empty\n",
        "- `__len__` (_overload_ the `len()` python method for a Stack object instance)\n",
        "- `__init__` (a constructor for our Stack class)\n",
        "\n",
        "I'm going to give you the constructor (`__init__`) and the `peek` method\n",
        "\n",
        "#### The constructor\n",
        "We start by creating a construtor that simply initializes an empty stack, with the `_top` of the stack being pointed to `None` and the `_size` of our stack being initially 0."
      ]
    },
    {
      "cell_type": "code",
      "execution_count": 2,
      "metadata": {
        "id": "jSJ_0S2ts7Gh"
      },
      "outputs": [],
      "source": [
        "class Stack :\n",
        "\tdef __init__( self ):\n",
        "\t\tself._top = None\n",
        "\t\tself._size = 0"
      ]
    },
    {
      "cell_type": "markdown",
      "metadata": {
        "id": "PagmnC1os-Po"
      },
      "source": [
        "#### The `peek` method\n",
        "The peek method allows us to \"see\" what is on the top of the stack. It returns the item being pointed to by the `_top` attribute. In addition, our assert statement assures that the stack is not empty."
      ]
    },
    {
      "cell_type": "code",
      "execution_count": 3,
      "metadata": {
        "id": "D4lVJI0ktC4p"
      },
      "outputs": [],
      "source": [
        "\tdef peek( self ):\n",
        "\t\tassert not self.is_empty(), \"Cannot peek at an empty stack\"\n",
        "\t\treturn (self._top.item)"
      ]
    },
    {
      "cell_type": "markdown",
      "metadata": {
        "id": "Eh1KAn83tLZf"
      },
      "source": [
        "#### The remaining methods\n",
        "Your job is to complete the remaining methods\n",
        "\n",
        "##### The `push` method\n",
        "This method will _push_ an item to the _top_ of your Stack. This method takes in an `item`, it is up to you to create StackNode to encapsulate (hold) the item and _point_ to the next Node (i.e., using the `_next` attribute of your new StackNode that will be at the `_top` of your Stack)."
      ]
    },
    {
      "cell_type": "code",
      "execution_count": 5,
      "metadata": {
        "id": "OJIZWKCdtNe1"
      },
      "outputs": [],
      "source": [
        "\tdef push( self, item ):\n",
        "\t\t''' Method to push an item to the top of a Stack\n",
        "\t\t'''\n",
        "\t\tnew_node = StackNode(item)\n",
        "\t\tnew_node._next=self._top\n",
        "\t\tself._top=new_node\n",
        "\t\tself.size+=1"
      ]
    },
    {
      "cell_type": "markdown",
      "metadata": {
        "id": "2UWyEyowtUw_"
      },
      "source": [
        "##### The `pop` method\n",
        "This method will _pop_ an item from the _top_ of your Stack. This method should return the `item` at the top of the stack (__not the entire StackNode__.) Your `pop` method will need to change the pointer of the `_top` so that it is not pointing to the `_StackNode` at the top of the Stack (i.e., before this method was called), but instead the StackNode `_next` to the previous top StackNode. Don't forget to update your `size`!"
      ]
    },
    {
      "cell_type": "code",
      "execution_count": 7,
      "metadata": {
        "id": "CKtsG1oitZeU"
      },
      "outputs": [],
      "source": [
        "\tdef pop(self):\n",
        "\t\t''' Method to pop an item from the top of a Stack\n",
        "\t\t'''\n",
        "\t\tif self._top==None:\n",
        "\t\t\traise IndexError(\"empty stack\")\n",
        "\t\tpopped_item=self._top.item\n",
        "\t\tself._top = self._top._next\n",
        "\t\tself.size -= 1\n",
        "\t\treturn popped_item\n"
      ]
    },
    {
      "cell_type": "markdown",
      "metadata": {
        "id": "Zk-KvnbItbck"
      },
      "source": [
        "##### The `__len__` method\n",
        "This method will return the number of items currently in your Stack"
      ]
    },
    {
      "cell_type": "code",
      "execution_count": 8,
      "metadata": {
        "id": "cRb0Sb8cQJFC"
      },
      "outputs": [],
      "source": [
        "\tdef __len__(self):\n",
        "\t\t''' Overrides the Python len() method for Stack objects\n",
        "\t\t'''\n",
        "\t\treturn self.size"
      ]
    },
    {
      "cell_type": "markdown",
      "metadata": {
        "id": "fDa_8kZKQMyn"
      },
      "source": [
        "##### The `is_empty` method\n",
        "This method will return a boolean that tells us whether the Stack is (or is not) empty"
      ]
    },
    {
      "cell_type": "code",
      "execution_count": 9,
      "metadata": {
        "id": "7G_MCxQItxYg"
      },
      "outputs": [],
      "source": [
        "\tdef is_empty(self):\n",
        "\t\t''' Used to tell us whether the Stack is empty (returns a True or False)\n",
        "\t\t'''\n",
        "\t\treturn self._top is None"
      ]
    }
  ],
  "metadata": {
    "colab": {
      "provenance": []
    },
    "kernelspec": {
      "display_name": ".venv",
      "language": "python",
      "name": "python3"
    },
    "language_info": {
      "codemirror_mode": {
        "name": "ipython",
        "version": 3
      },
      "file_extension": ".py",
      "mimetype": "text/x-python",
      "name": "python",
      "nbconvert_exporter": "python",
      "pygments_lexer": "ipython3",
      "version": "3.10.1"
    }
  },
  "nbformat": 4,
  "nbformat_minor": 0
}
